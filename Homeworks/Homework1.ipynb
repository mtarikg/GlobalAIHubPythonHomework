{
 "cells": [
  {
   "cell_type": "code",
   "execution_count": 2,
   "metadata": {},
   "outputs": [],
   "source": [
    "# an empty list is created to store the values given by the user.\n",
    "valuesList = []"
   ]
  },
  {
   "cell_type": "code",
   "execution_count": 3,
   "metadata": {},
   "outputs": [
    {
     "name": "stdout",
     "output_type": "stream",
     "text": [
      "Please type 5 values.\n"
     ]
    }
   ],
   "source": [
    "print(\"Please type 5 values.\")"
   ]
  },
  {
   "cell_type": "code",
   "execution_count": 4,
   "metadata": {},
   "outputs": [
    {
     "name": "stdin",
     "output_type": "stream",
     "text": [
      "Integer value: 3\n",
      "Float value: 4.5\n",
      "String value: \"asd\"\n",
      "Boolean value: true\n",
      "Complex value: 1+3j\n"
     ]
    }
   ],
   "source": [
    "intValue = int(input(\"Integer value:\"))\n",
    "floatValue = float(input(\"Float value:\"))\n",
    "stringValue = str(input(\"String value:\"))\n",
    "booleanValue = bool(input(\"Boolean value:\"))\n",
    "complexValue = complex(input(\"Complex value:\"))"
   ]
  },
  {
   "cell_type": "code",
   "execution_count": 5,
   "metadata": {},
   "outputs": [],
   "source": [
    "# append method is used to add the parameter to the end of the list.\n",
    "valuesList.append(intValue)\n",
    "valuesList.append(floatValue)\n",
    "valuesList.append(stringValue)\n",
    "valuesList.append(booleanValue)\n",
    "valuesList.append(complexValue)"
   ]
  },
  {
   "cell_type": "code",
   "execution_count": 6,
   "metadata": {},
   "outputs": [
    {
     "name": "stdout",
     "output_type": "stream",
     "text": [
      "Value 1 is: 3\n",
      "Value 2 is: 4.5\n",
      "Value 3 is: \"asd\"\n",
      "Value 4 is: True\n",
      "Value 5 is: (1+3j)\n"
     ]
    }
   ],
   "source": [
    "# a for loop is used here to iterate over the list. \n",
    "for x in range(len((valuesList))):\n",
    "    print(f'Value {x+1} is: {valuesList[x]}') # printing using f-string"
   ]
  },
  {
   "cell_type": "code",
   "execution_count": 7,
   "metadata": {},
   "outputs": [
    {
     "name": "stdout",
     "output_type": "stream",
     "text": [
      "The type of value 0 is: <class 'int'>\n",
      "The type of value 1 is: <class 'float'>\n",
      "The type of value 2 is: <class 'str'>\n",
      "The type of value 3 is: <class 'bool'>\n",
      "The type of value 4 is: <class 'complex'>\n"
     ]
    }
   ],
   "source": [
    "for x in range(len(valuesList)):\n",
    "    print(\"The type of value {} is: {}\".format(x,type(valuesList[x]))) # printing using format method"
   ]
  },
  {
   "cell_type": "code",
   "execution_count": null,
   "metadata": {},
   "outputs": [],
   "source": []
  }
 ],
 "metadata": {
  "kernelspec": {
   "display_name": "Python 3",
   "language": "python",
   "name": "python3"
  },
  "language_info": {
   "codemirror_mode": {
    "name": "ipython",
    "version": 3
   },
   "file_extension": ".py",
   "mimetype": "text/x-python",
   "name": "python",
   "nbconvert_exporter": "python",
   "pygments_lexer": "ipython3",
   "version": "3.9.1"
  }
 },
 "nbformat": 4,
 "nbformat_minor": 4
}

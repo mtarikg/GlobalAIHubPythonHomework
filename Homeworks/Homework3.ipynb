{
 "cells": [
  {
   "cell_type": "code",
   "execution_count": 1,
   "metadata": {},
   "outputs": [],
   "source": [
    "# Game Rule: If you enter the same letter, you will lose one turn whether it is contained in the word or not.\n",
    "# the word \"intelligence\" is used to demonstrate the aforementioned game rule.\n",
    "# turnNumber is calculated as the following: \n",
    "#    the length of the word (intelligence, 12) + half of the length of the word (6) to give players chance for wrong answers.\n",
    "# containedLetters is to store the letters in the word given by the user."
   ]
  },
  {
   "cell_type": "code",
   "execution_count": 2,
   "metadata": {},
   "outputs": [],
   "source": [
    "word = \"intelligence\"\n",
    "turnNumber = int(len(word) + (len(word) / 2)) \n",
    "containedLetters = \"_\" * len(word)"
   ]
  },
  {
   "cell_type": "code",
   "execution_count": 3,
   "metadata": {},
   "outputs": [],
   "source": [
    "def welcome(name):\n",
    "    print(\"Welcome \" + name + \"!\")"
   ]
  },
  {
   "cell_type": "code",
   "execution_count": 4,
   "metadata": {},
   "outputs": [],
   "source": [
    "def guessTheWord():\n",
    "    print()\n",
    "    print(\"Now let's see if you can guess the word...\")\n",
    "    isGuessed = False\n",
    "\n",
    "    for x in range(turnNumber):\n",
    "        print(\"You have\", (turnNumber-x), \"turns left\")\n",
    "        letter = str(input(\"Please enter one letter:\"))\n",
    "        global containedLetters # global keyword is used to avoid containedLetters becoming a local variable.\n",
    "        \n",
    "        if(letter in containedLetters):\n",
    "            print(\"You have already given this letter. Please try with a different letter:\")\n",
    "        \n",
    "        # this is the part where each word is checked.\n",
    "        for i in range(len(word)):\n",
    "            if (letter == word[i]):\n",
    "                theLetters = list(containedLetters)\n",
    "                theLetters[i] = letter\n",
    "                containedLetters = \"\".join(theLetters)\n",
    "                \n",
    "        print(\"The progress so far:\", containedLetters)\n",
    "        print()\n",
    "        \n",
    "        # any time the player completes the word, the game comes to the end.\n",
    "        if(containedLetters == word):\n",
    "            print(\"You did it! The word is:\", word)\n",
    "            print()\n",
    "            isGuessed = True\n",
    "            break\n",
    "        \n",
    "    if(not isGuessed):\n",
    "        print(\"You couldn't guess it right. The word was:\", word)\n",
    "        print()\n",
    "   \n",
    "    print(\"The game has ended, thanks for playing!\")\n",
    "    quit()"
   ]
  },
  {
   "cell_type": "code",
   "execution_count": 5,
   "metadata": {},
   "outputs": [
    {
     "name": "stdin",
     "output_type": "stream",
     "text": [
      "Please enter your name: Tarık\n"
     ]
    },
    {
     "name": "stdout",
     "output_type": "stream",
     "text": [
      "Welcome Tarık!\n",
      "\n",
      "Now let's see if you can guess the word...\n",
      "You have 18 turns left\n"
     ]
    },
    {
     "name": "stdin",
     "output_type": "stream",
     "text": [
      "Please enter one letter: e\n"
     ]
    },
    {
     "name": "stdout",
     "output_type": "stream",
     "text": [
      "The progress so far: ___e____e__e\n",
      "\n",
      "You have 17 turns left\n"
     ]
    },
    {
     "name": "stdin",
     "output_type": "stream",
     "text": [
      "Please enter one letter: i\n"
     ]
    },
    {
     "name": "stdout",
     "output_type": "stream",
     "text": [
      "The progress so far: i__e__i_e__e\n",
      "\n",
      "You have 16 turns left\n"
     ]
    },
    {
     "name": "stdin",
     "output_type": "stream",
     "text": [
      "Please enter one letter: b\n"
     ]
    },
    {
     "name": "stdout",
     "output_type": "stream",
     "text": [
      "The progress so far: i__e__i_e__e\n",
      "\n",
      "You have 15 turns left\n"
     ]
    },
    {
     "name": "stdin",
     "output_type": "stream",
     "text": [
      "Please enter one letter: n\n"
     ]
    },
    {
     "name": "stdout",
     "output_type": "stream",
     "text": [
      "The progress so far: in_e__i_en_e\n",
      "\n",
      "You have 14 turns left\n"
     ]
    },
    {
     "name": "stdin",
     "output_type": "stream",
     "text": [
      "Please enter one letter: t\n"
     ]
    },
    {
     "name": "stdout",
     "output_type": "stream",
     "text": [
      "The progress so far: inte__i_en_e\n",
      "\n",
      "You have 13 turns left\n"
     ]
    },
    {
     "name": "stdin",
     "output_type": "stream",
     "text": [
      "Please enter one letter: l\n"
     ]
    },
    {
     "name": "stdout",
     "output_type": "stream",
     "text": [
      "The progress so far: intelli_en_e\n",
      "\n",
      "You have 12 turns left\n"
     ]
    },
    {
     "name": "stdin",
     "output_type": "stream",
     "text": [
      "Please enter one letter: g\n"
     ]
    },
    {
     "name": "stdout",
     "output_type": "stream",
     "text": [
      "The progress so far: intelligen_e\n",
      "\n",
      "You have 11 turns left\n"
     ]
    },
    {
     "name": "stdin",
     "output_type": "stream",
     "text": [
      "Please enter one letter: g\n"
     ]
    },
    {
     "name": "stdout",
     "output_type": "stream",
     "text": [
      "You have already given this letter. Please try with a different letter:\n",
      "The progress so far: intelligen_e\n",
      "\n",
      "You have 10 turns left\n"
     ]
    },
    {
     "name": "stdin",
     "output_type": "stream",
     "text": [
      "Please enter one letter: e\n"
     ]
    },
    {
     "name": "stdout",
     "output_type": "stream",
     "text": [
      "You have already given this letter. Please try with a different letter:\n",
      "The progress so far: intelligen_e\n",
      "\n",
      "You have 9 turns left\n"
     ]
    },
    {
     "name": "stdin",
     "output_type": "stream",
     "text": [
      "Please enter one letter: c\n"
     ]
    },
    {
     "name": "stdout",
     "output_type": "stream",
     "text": [
      "The progress so far: intelligence\n",
      "\n",
      "You did it! The word is: intelligence\n",
      "\n",
      "The game has ended, thanks for playing!\n"
     ]
    }
   ],
   "source": [
    "userName = str(input(\"Please enter your name:\"))\n",
    "\n",
    "welcome(userName)\n",
    "\n",
    "guessTheWord()"
   ]
  }
 ],
 "metadata": {
  "kernelspec": {
   "display_name": "Python 3",
   "language": "python",
   "name": "python3"
  },
  "language_info": {
   "codemirror_mode": {
    "name": "ipython",
    "version": 3
   },
   "file_extension": ".py",
   "mimetype": "text/x-python",
   "name": "python",
   "nbconvert_exporter": "python",
   "pygments_lexer": "ipython3",
   "version": "3.9.1"
  }
 },
 "nbformat": 4,
 "nbformat_minor": 4
}

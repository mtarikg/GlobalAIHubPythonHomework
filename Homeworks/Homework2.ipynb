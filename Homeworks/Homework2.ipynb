{
 "cells": [
  {
   "cell_type": "code",
   "execution_count": 1,
   "metadata": {},
   "outputs": [
    {
     "name": "stdout",
     "output_type": "stream",
     "text": [
      "Welcome to our user identification program!\n",
      "Please enter your information:\n"
     ]
    }
   ],
   "source": [
    "print(\"Welcome to our user identification program!\")\n",
    "print(\"Please enter your information:\")"
   ]
  },
  {
   "cell_type": "code",
   "execution_count": 3,
   "metadata": {},
   "outputs": [
    {
     "name": "stdin",
     "output_type": "stream",
     "text": [
      "Your first name: Muhammed Tarık\n",
      "Your last name: Göl\n",
      "Your age: 23\n",
      "Your birth year: 1997\n"
     ]
    }
   ],
   "source": [
    "firstName = str(input(\"Your first name:\"))\n",
    "lastName = str(input(\"Your last name:\"))\n",
    "age = int(input(\"Your age:\"))\n",
    "birthYear = int(input(\"Your birth year:\"))"
   ]
  },
  {
   "cell_type": "code",
   "execution_count": 4,
   "metadata": {},
   "outputs": [],
   "source": [
    "# an empty list is created and the data is stored in it by using append() method.\n",
    "userData = []\n",
    "userData.append(firstName)\n",
    "userData.append(lastName)\n",
    "userData.append(age)\n",
    "userData.append(birthYear)"
   ]
  },
  {
   "cell_type": "code",
   "execution_count": 13,
   "metadata": {},
   "outputs": [
    {
     "name": "stdout",
     "output_type": "stream",
     "text": [
      "Here is the information you entered:\n",
      "Muhammed Tarık\n",
      "Göl\n",
      "23\n",
      "1997\n",
      "You can go out to the street.\n"
     ]
    }
   ],
   "source": [
    "# a for loop is used to iterate over the list\n",
    "print(\"Here is the information you entered:\")\n",
    "for i in range(len(userData)):\n",
    "    print(userData[i])\n",
    "if(age > 18):\n",
    "    print(\"You can go out to the street.\")\n",
    "else:\n",
    "    print(\"You can't go out because it's too dangerous.\")"
   ]
  },
  {
   "cell_type": "code",
   "execution_count": 14,
   "metadata": {},
   "outputs": [
    {
     "name": "stdout",
     "output_type": "stream",
     "text": [
      "\n",
      "Thank you for using our program!\n"
     ]
    }
   ],
   "source": [
    "print()\n",
    "print(\"Thank you for using our program!\")"
   ]
  }
 ],
 "metadata": {
  "kernelspec": {
   "display_name": "Python 3",
   "language": "python",
   "name": "python3"
  },
  "language_info": {
   "codemirror_mode": {
    "name": "ipython",
    "version": 3
   },
   "file_extension": ".py",
   "mimetype": "text/x-python",
   "name": "python",
   "nbconvert_exporter": "python",
   "pygments_lexer": "ipython3",
   "version": "3.9.1"
  }
 },
 "nbformat": 4,
 "nbformat_minor": 4
}

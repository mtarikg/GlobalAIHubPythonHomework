{
 "cells": [
  {
   "cell_type": "code",
   "execution_count": 1,
   "metadata": {},
   "outputs": [],
   "source": [
    "# Before simulating student part, creating courses should be on top in terms of reality.\n",
    "# coursesList is defined here to be used by other methods.\n",
    "# In createCourses() method, the user defines 5 courses to be taken by students later.\n",
    "coursesList = []\n",
    "\n",
    "def createCourses():\n",
    "    requiredCourse = 5\n",
    "    print(\"Please enter 5 course information\")\n",
    "    for i in range(requiredCourse):\n",
    "        global coursesList\n",
    "        courseName = str(input(\"Course name: \"))\n",
    "        coursesList.append(courseName)\n",
    "        print(\"New course,\", courseName, \",has been added successfully.\")\n",
    "        if len(coursesList) == 5:\n",
    "            print(\"There are 5 courses.Thank you!\")"
   ]
  },
  {
   "cell_type": "code",
   "execution_count": 2,
   "metadata": {},
   "outputs": [],
   "source": [
    "# welcomeMenu() is defined to let students enter their information. As requested, students have the right to enter incorrect information for 3 times.\n",
    "import sys\n",
    "def welcomeMenu():\n",
    "    incorrectAttempt = 0 # to count the number of incorrect entries\n",
    "    editAttempt = 3 # to show how many chances left to change the incorrect information\n",
    "    i = 0\n",
    "    \n",
    "    print(\"Please enter your name and surname:\")\n",
    "    studentName = str(input(\"Name: \"))\n",
    "    studentSurname = str(input(\"Surname: \"))\n",
    "    \n",
    "    while i <= editAttempt:\n",
    "        print(\"Do you confirm the information? If your information is correct, type 'yes'; otherwise type 'no'. \")\n",
    "        print(\"A reminder: You have 3 chances to change it. After fourth incorrect attempt, you won't be able to use the system.\")\n",
    "        userAnswer = str(input(\"Your answer:\"))\n",
    "        if(userAnswer == \"yes\"):\n",
    "            print(\"Welcome \" + studentName + \" \" + studentSurname + \"!\")\n",
    "            break  \n",
    "        elif(userAnswer == \"no\"):\n",
    "            incorrectAttempt += 1\n",
    "            if(incorrectAttempt > editAttempt):\n",
    "                print(\"Incorrect information has been entered for the fourth time. Please try again later.\")\n",
    "                sys.exit()\n",
    "            else:\n",
    "                print(\"You have\", (editAttempt - incorrectAttempt), \"chances left to enter incorrect information. Please type it again.\")\n",
    "                studentName = str(input(\"Name: \"))\n",
    "                studentSurname = str(input(\"Surname: \"))   \n",
    "        else:\n",
    "            print(\"Invalid answer. Please only type 'yes' or 'no'. \")"
   ]
  },
  {
   "cell_type": "code",
   "execution_count": 3,
   "metadata": {},
   "outputs": [],
   "source": [
    "# This method simulates the part where students are expected to take their courses.\n",
    "# takenCourses is declared here to be used in other methods, avoiding it becoming a local variable.\n",
    "takenCourses = []\n",
    "\n",
    "def takeCourses():\n",
    "    print(\"Please enter the name of courses you want to take.\")\n",
    "    print(\"A reminder: You should take at least 3 courses and can take up to 5.\")\n",
    "        \n",
    "    while True:  \n",
    "        global coursesList\n",
    "        global takenCourses\n",
    "        takenCourseName = str(input())\n",
    "        if takenCourseName in coursesList:\n",
    "            takenCourses.append(takenCourseName)\n",
    "            print(\"You will be taking\", takenCourseName, \"for this semester.\")\n",
    "            print(\"You have selected\", len(takenCourses), \"course/s. Do you want to take more? Type 'yes ' or 'no'. \")\n",
    "            studentAnswer = str(input())\n",
    "            if studentAnswer == \"no\":\n",
    "                if(len(takenCourses) < 3): # This chekcs if the student has selected less than 3 courses or not. \n",
    "                    return \"You have failed for this semester.\" # If yes, the student has automatically failed for the semester.\n",
    "                else:\n",
    "                    print(\"The classes you will be taking for this semester:\", \", \".join(takenCourses)) # If not, the courses selected by the student are displayed.\n",
    "                    break\n",
    "            elif studentAnswer == \"yes\":\n",
    "                continue\n",
    "            else:\n",
    "                print(\"Invalid answer. Please only type 'yes' or 'no'. \")\n",
    "                userAnswer = str(input())\n",
    "        else:\n",
    "            print(\"The course name\", takenCourseName, \"is either invalid or it is not found. Please type again.\")"
   ]
  },
  {
   "cell_type": "code",
   "execution_count": 4,
   "metadata": {},
   "outputs": [],
   "source": [
    "# In this method, exams of one course will be held.\n",
    "def takeExam():\n",
    "    print(\"Please select the course to take exams from.\")\n",
    "    print(\", \".join(takenCourses))\n",
    "    studentAnswer = str(input())\n",
    "    if(studentAnswer in takenCourses):\n",
    "        print(\"You have chosen to take exams from\", studentAnswer)"
   ]
  },
  {
   "cell_type": "code",
   "execution_count": 5,
   "metadata": {},
   "outputs": [],
   "source": [
    "# This method's aim is to determine which letter grade the student got.\n",
    "def calculateGrade():\n",
    "    print(\"Please enter each score of the following: \")\n",
    "    midtermGrade = int(input(\"Midterm: \"))\n",
    "    projectGrade = int(input(\"Project: \"))\n",
    "    finalGrade = int(input(\"Final: \"))\n",
    "    \n",
    "    grades = {\"Midterm\": midtermGrade, \"Project\": projectGrade, \"Final\": finalGrade}\n",
    "    totalGrade = (grades[\"Midterm\"] * 0.3) + (grades[\"Project\"] * 0.2) + (grades[\"Final\"] * 0.5)\n",
    "    \n",
    "    if totalGrade >= 90 and totalGrade <= 100:\n",
    "        print(\"You got AA\")\n",
    "    elif totalGrade >= 70 and totalGrade < 90:\n",
    "        print(\"You got BB\")\n",
    "    elif totalGrade >= 50 and totalGrade < 70:\n",
    "        print(\"You got CC\")\n",
    "    elif totalGrade >= 30 and totalGrade < 50:\n",
    "        print(\"You got DD\")\n",
    "    elif totalGrade < 30:\n",
    "        print(\"You got FF. You failed in this course.\")"
   ]
  },
  {
   "cell_type": "code",
   "execution_count": 6,
   "metadata": {},
   "outputs": [
    {
     "name": "stdout",
     "output_type": "stream",
     "text": [
      "Please enter 5 course information\n"
     ]
    },
    {
     "name": "stdin",
     "output_type": "stream",
     "text": [
      "Course name:  CHEM100\n"
     ]
    },
    {
     "name": "stdout",
     "output_type": "stream",
     "text": [
      "New course, CHEM100 ,has been added successfully.\n"
     ]
    },
    {
     "name": "stdin",
     "output_type": "stream",
     "text": [
      "Course name:  PHYS100\n"
     ]
    },
    {
     "name": "stdout",
     "output_type": "stream",
     "text": [
      "New course, PHYS100 ,has been added successfully.\n"
     ]
    },
    {
     "name": "stdin",
     "output_type": "stream",
     "text": [
      "Course name:  ENG101\n"
     ]
    },
    {
     "name": "stdout",
     "output_type": "stream",
     "text": [
      "New course, ENG101 ,has been added successfully.\n"
     ]
    },
    {
     "name": "stdin",
     "output_type": "stream",
     "text": [
      "Course name:  MATH153\n"
     ]
    },
    {
     "name": "stdout",
     "output_type": "stream",
     "text": [
      "New course, MATH153 ,has been added successfully.\n"
     ]
    },
    {
     "name": "stdin",
     "output_type": "stream",
     "text": [
      "Course name:  SE115\n"
     ]
    },
    {
     "name": "stdout",
     "output_type": "stream",
     "text": [
      "New course, SE115 ,has been added successfully.\n",
      "There are 5 courses.Thank you!\n",
      "\n",
      "Please enter your name and surname:\n"
     ]
    },
    {
     "name": "stdin",
     "output_type": "stream",
     "text": [
      "Name:  Tarık\n",
      "Surname:  Göl\n"
     ]
    },
    {
     "name": "stdout",
     "output_type": "stream",
     "text": [
      "Do you confirm the information? If your information is correct, type 'yes'; otherwise type 'no'. \n",
      "A reminder: You have 3 chances to change it. After fourth incorrect attempt, you won't be able to use the system.\n"
     ]
    },
    {
     "name": "stdin",
     "output_type": "stream",
     "text": [
      "Your answer: no\n"
     ]
    },
    {
     "name": "stdout",
     "output_type": "stream",
     "text": [
      "You have 2 chances left to enter incorrect information. Please type it again.\n"
     ]
    },
    {
     "name": "stdin",
     "output_type": "stream",
     "text": [
      "Name:  Muhammed Tarık\n",
      "Surname:  Göl\n"
     ]
    },
    {
     "name": "stdout",
     "output_type": "stream",
     "text": [
      "Do you confirm the information? If your information is correct, type 'yes'; otherwise type 'no'. \n",
      "A reminder: You have 3 chances to change it. After fourth incorrect attempt, you won't be able to use the system.\n"
     ]
    },
    {
     "name": "stdin",
     "output_type": "stream",
     "text": [
      "Your answer: yes\n"
     ]
    },
    {
     "name": "stdout",
     "output_type": "stream",
     "text": [
      "Welcome Muhammed Tarık Göl!\n",
      "\n",
      "Please enter the name of courses you want to take.\n",
      "A reminder: You should take at least 3 courses and can take up to 5.\n"
     ]
    },
    {
     "name": "stdin",
     "output_type": "stream",
     "text": [
      " MATH101\n"
     ]
    },
    {
     "name": "stdout",
     "output_type": "stream",
     "text": [
      "The course name MATH101 is either invalid or it is not found. Please type again.\n"
     ]
    },
    {
     "name": "stdin",
     "output_type": "stream",
     "text": [
      " MATH153\n"
     ]
    },
    {
     "name": "stdout",
     "output_type": "stream",
     "text": [
      "You will be taking MATH153 for this semester.\n",
      "You have selected 1 course/s. Do you want to take more? Type 'yes ' or 'no'. \n"
     ]
    },
    {
     "name": "stdin",
     "output_type": "stream",
     "text": [
      " yes\n",
      " SE115\n"
     ]
    },
    {
     "name": "stdout",
     "output_type": "stream",
     "text": [
      "You will be taking SE115 for this semester.\n",
      "You have selected 2 course/s. Do you want to take more? Type 'yes ' or 'no'. \n"
     ]
    },
    {
     "name": "stdin",
     "output_type": "stream",
     "text": [
      " yes\n",
      " CHEM100\n"
     ]
    },
    {
     "name": "stdout",
     "output_type": "stream",
     "text": [
      "You will be taking CHEM100 for this semester.\n",
      "You have selected 3 course/s. Do you want to take more? Type 'yes ' or 'no'. \n"
     ]
    },
    {
     "name": "stdin",
     "output_type": "stream",
     "text": [
      " no\n"
     ]
    },
    {
     "name": "stdout",
     "output_type": "stream",
     "text": [
      "The classes you will be taking for this semester: MATH153, SE115, CHEM100\n",
      "\n",
      "Please select the course to take exams from.\n",
      "MATH153, SE115, CHEM100\n"
     ]
    },
    {
     "name": "stdin",
     "output_type": "stream",
     "text": [
      " SE115\n"
     ]
    },
    {
     "name": "stdout",
     "output_type": "stream",
     "text": [
      "You have chosen to take exams from SE115\n",
      "\n",
      "Please enter each score of the following: \n"
     ]
    },
    {
     "name": "stdin",
     "output_type": "stream",
     "text": [
      "Midterm:  76\n",
      "Project:  89\n",
      "Final:  84\n"
     ]
    },
    {
     "name": "stdout",
     "output_type": "stream",
     "text": [
      "You got BB\n"
     ]
    }
   ],
   "source": [
    "createCourses()\n",
    "print()\n",
    "welcomeMenu()\n",
    "print()\n",
    "takeCourses()\n",
    "print()\n",
    "takeExam()\n",
    "print()\n",
    "calculateGrade()"
   ]
  },
  {
   "cell_type": "code",
   "execution_count": null,
   "metadata": {},
   "outputs": [],
   "source": []
  }
 ],
 "metadata": {
  "kernelspec": {
   "display_name": "Python 3",
   "language": "python",
   "name": "python3"
  },
  "language_info": {
   "codemirror_mode": {
    "name": "ipython",
    "version": 3
   },
   "file_extension": ".py",
   "mimetype": "text/x-python",
   "name": "python",
   "nbconvert_exporter": "python",
   "pygments_lexer": "ipython3",
   "version": "3.9.1"
  }
 },
 "nbformat": 4,
 "nbformat_minor": 4
}
